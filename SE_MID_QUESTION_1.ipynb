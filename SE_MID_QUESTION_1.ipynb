{
 "cells": [
  {
   "cell_type": "markdown",
   "id": "c0598f77",
   "metadata": {},
   "source": [
    "<h2>Question 1</h2>"
   ]
  },
  {
   "cell_type": "markdown",
   "id": "0ba1b0ff",
   "metadata": {},
   "source": [
    "<h3> Loading the data </h3>"
   ]
  },
  {
   "cell_type": "code",
   "execution_count": 6,
   "id": "b80d62c1",
   "metadata": {},
   "outputs": [
    {
     "name": "stdout",
     "output_type": "stream",
     "text": [
      "Completed loading post.csv\n"
     ]
    }
   ],
   "source": [
    "import pandas as pd\n",
    "#\n",
    "df_post = pd.read_csv('posts.csv')\n",
    "print(\"Completed loading post.csv\")"
   ]
  },
  {
   "cell_type": "markdown",
   "id": "6c94c039",
   "metadata": {},
   "source": [
    "<h3> Main processing of data </h3>"
   ]
  },
  {
   "cell_type": "code",
   "execution_count": 7,
   "id": "81b6e6f6",
   "metadata": {},
   "outputs": [
    {
     "name": "stdout",
     "output_type": "stream",
     "text": [
      "Processing data\n",
      "0 / 2012348  processed\n",
      "1000000 / 2012348  processed\n",
      "2000000 / 2012348  processed\n",
      "Processing completed\n"
     ]
    }
   ],
   "source": [
    "#Bins for storing the number of encounters based on bins index. Like bin_answer[1] will have number of \n",
    "#posts with answer count of 2\n",
    "bins_answers=[]\n",
    "bins_threads=[]\n",
    "for i in range(25): #Initialising all bins with 0 encounters\n",
    "    bins_answers.append(int(0))\n",
    "    bins_threads.append(int(0))\n",
    "\n",
    "print(\"Processing data\")\n",
    "#Going through all rows of post and increasing the bins values based on the number of answers or thread count it has.\n",
    "#Like bin_answers[19] will have number of post entries where number of answers is 20 and bin_answers[20] will have \n",
    "#number of post entries where number of answers is 21\n",
    "df_post= df_post[df_post['post_type_id'] == 1]\n",
    "for i in range(len(df_post)):\n",
    "    if(i%1000000==0): #Keeping track of the progress\n",
    "        print(i,\"/\",len(df_post),\" processed\")\n",
    "    row = df_post.iloc[i]\n",
    "    \n",
    "    #Populating the bins_answers array\n",
    "    if(row.answer_count==1):\n",
    "        bins_answers[0]+=1\n",
    "    elif (row.answer_count==2):\n",
    "        bins_answers[1]+=1\n",
    "    elif (row.answer_count==3):\n",
    "        bins_answers[2]+=1\n",
    "    elif (row.answer_count==4):\n",
    "        bins_answers[3]+=1\n",
    "    elif (row.answer_count==5):\n",
    "        bins_answers[4]+=1\n",
    "    elif (row.answer_count==6):\n",
    "        bins_answers[5]+=1\n",
    "    elif (row.answer_count==7):\n",
    "        bins_answers[6]+=1\n",
    "    elif (row.answer_count==8):\n",
    "        bins_answers[7]+=1\n",
    "    elif (row.answer_count==9):\n",
    "        bins_answers[8]+=1\n",
    "    elif (row.answer_count==10):\n",
    "        bins_answers[9]+=1\n",
    "    elif (row.answer_count==11):\n",
    "        bins_answers[10]+=1\n",
    "    elif (row.answer_count==12):\n",
    "        bins_answers[11]+=1\n",
    "    elif (row.answer_count==13):\n",
    "        bins_answers[12]+=1\n",
    "    elif (row.answer_count==14):\n",
    "        bins_answers[13]+=1\n",
    "    elif (row.answer_count==15):\n",
    "        bins_answers[14]+=1\n",
    "    elif (row.answer_count==16):\n",
    "        bins_answers[15]+=1\n",
    "    elif (row.answer_count==17):\n",
    "        bins_answers[16]+=1\n",
    "    elif (row.answer_count==18):\n",
    "        bins_answers[17]+=1\n",
    "    elif (row.answer_count==19):\n",
    "        bins_answers[18]+=1\n",
    "    elif (row.answer_count==20):\n",
    "        bins_answers[19]+=1\n",
    "    elif (row.answer_count==21):\n",
    "        bins_answers[20]+=1\n",
    "    elif (row.answer_count==22):\n",
    "        bins_answers[21]+=1\n",
    "    elif (row.answer_count==23):\n",
    "        bins_answers[22]+=1\n",
    "    elif (row.answer_count==24):\n",
    "        bins_answers[23]+=1\n",
    "    elif (row.answer_count>=25):\n",
    "        bins_answers[24]+=1\n",
    "    else:\n",
    "        pass\n",
    "    \n",
    "    #Populating the bins_threads array\n",
    "    if((row.comment_count+row.answer_count)==1):\n",
    "        bins_threads[0]+=1\n",
    "    elif ((row.comment_count+row.answer_count)==2):\n",
    "        bins_threads[1]+=1\n",
    "    elif ((row.comment_count+row.answer_count)==3):\n",
    "        bins_threads[2]+=1\n",
    "    elif ((row.comment_count+row.answer_count)==4):\n",
    "        bins_threads[3]+=1\n",
    "    elif ((row.comment_count+row.answer_count)==5):\n",
    "        bins_threads[4]+=1\n",
    "    elif ((row.comment_count+row.answer_count)==6):\n",
    "        bins_threads[5]+=1\n",
    "    elif ((row.comment_count+row.answer_count)==7):\n",
    "        bins_threads[6]+=1\n",
    "    elif ((row.comment_count+row.answer_count)==8):\n",
    "        bins_threads[7]+=1\n",
    "    elif ((row.comment_count+row.answer_count)==9):\n",
    "        bins_threads[8]+=1\n",
    "    elif ((row.comment_count+row.answer_count)==10):\n",
    "        bins_threads[9]+=1\n",
    "    elif ((row.comment_count+row.answer_count)==11):\n",
    "        bins_threads[10]+=1\n",
    "    elif ((row.comment_count+row.answer_count)==12):\n",
    "        bins_threads[11]+=1\n",
    "    elif ((row.comment_count+row.answer_count)==13):\n",
    "        bins_threads[12]+=1\n",
    "    elif ((row.comment_count+row.answer_count)==14):\n",
    "        bins_threads[13]+=1\n",
    "    elif ((row.comment_count+row.answer_count)==15):\n",
    "        bins_threads[14]+=1\n",
    "    elif ((row.comment_count+row.answer_count)==16):\n",
    "        bins_threads[15]+=1\n",
    "    elif ((row.comment_count+row.answer_count)==17):\n",
    "        bins_threads[16]+=1\n",
    "    elif ((row.comment_count+row.answer_count)==18):\n",
    "        bins_threads[17]+=1\n",
    "    elif ((row.comment_count+row.answer_count)==19):\n",
    "        bins_threads[18]+=1\n",
    "    elif ((row.comment_count+row.answer_count)==20):\n",
    "        bins_threads[19]+=1\n",
    "    elif ((row.comment_count+row.answer_count)==21):\n",
    "        bins_threads[20]+=1\n",
    "    elif ((row.comment_count+row.answer_count)==22):\n",
    "        bins_answers[21]+=1\n",
    "    elif ((row.comment_count+row.answer_count)==23):\n",
    "        bins_threads[22]+=1\n",
    "    elif ((row.comment_count+row.answer_count)==24):\n",
    "        bins_threads[23]+=1\n",
    "    elif ((row.comment_count+row.answer_count)>=25):\n",
    "        bins_threads[24]+=1\n",
    "    else:\n",
    "        pass\n",
    "print(\"Processing completed\")"
   ]
  },
  {
   "cell_type": "markdown",
   "id": "9a9f8ec6",
   "metadata": {},
   "source": [
    "<h3>Plotting the graphs as required</h3>"
   ]
  },
  {
   "cell_type": "code",
   "execution_count": 9,
   "id": "fc00373d",
   "metadata": {},
   "outputs": [
    {
     "data": {
      "image/png": "[encoded data removed]",
      "text/plain": [
       "<Figure size 864x576 with 1 Axes>"
      ]
     },
     "metadata": {
      "needs_background": "light"
     },
     "output_type": "display_data"
    }
   ],
   "source": [
    "import numpy as np\n",
    "import matplotlib.pyplot as plt\n",
    " \n",
    "# set width of bar\n",
    "barWidth = 0.25\n",
    "fig = plt.subplots(figsize =(12, 8))\n",
    " \n",
    "# set height of bar\n",
    "IT = bins_answers\n",
    "ECE = bins_threads\n",
    " \n",
    "# Set position of bar on X axis\n",
    "br1 = np.arange(len(IT))\n",
    "br2 = [x + barWidth for x in br1]\n",
    " \n",
    "# Make the plot\n",
    "plt.bar(br1, IT, color ='r', width = barWidth,\n",
    "        edgecolor ='grey', label ='ANSWERS')\n",
    "plt.bar(br2, ECE, color ='g', width = barWidth,\n",
    "        edgecolor ='grey', label ='THREAD')\n",
    "\n",
    " \n",
    "# Adding Xticks\n",
    "plt.xlabel('Thread/Answers length', fontweight ='bold', fontsize = 15)\n",
    "plt.ylabel('Questions', fontweight ='bold', fontsize = 15)\n",
    "\n",
    "plt.legend()\n",
    "plt.show()"
   ]
  },
  {
   "cell_type": "code",
   "execution_count": null,
   "id": "aff5d63c",
   "metadata": {},
   "outputs": [],
   "source": []
  }
 ],
 "metadata": {
  "kernelspec": {
   "display_name": "Python 3",
   "language": "python",
   "name": "python3"
  },
  "language_info": {
   "codemirror_mode": {
    "name": "ipython",
    "version": 3
   },
   "file_extension": ".py",
   "mimetype": "text/x-python",
   "name": "python",
   "nbconvert_exporter": "python",
   "pygments_lexer": "ipython3",
   "version": "3.8.8"
  }
 },
 "nbformat": 4,
 "nbformat_minor": 5
}
