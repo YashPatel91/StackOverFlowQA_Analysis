{
 "cells": [
  {
   "cell_type": "markdown",
   "id": "a630b3a3",
   "metadata": {},
   "source": [
    "<h2>Question 5</h2>"
   ]
  },
  {
   "cell_type": "markdown",
   "id": "6d423ca0",
   "metadata": {},
   "source": [
    "<h3>Loading data</h3>"
   ]
  },
  {
   "cell_type": "code",
   "execution_count": 27,
   "id": "8b684d85",
   "metadata": {},
   "outputs": [
    {
     "name": "stdout",
     "output_type": "stream",
     "text": [
      "Completed loading votes.csv\n",
      "Completed loading post.csv\n"
     ]
    }
   ],
   "source": [
    "import pandas as pd\n",
    "df_votes = pd.read_csv('votes.csv')\n",
    "print(\"Completed loading votes.csv\")\n",
    "df_post = pd.read_csv('posts.csv')\n",
    "print(\"Completed loading post.csv\")"
   ]
  },
  {
   "cell_type": "markdown",
   "id": "46e1f909",
   "metadata": {},
   "source": [
    "<h3>Ignoring the red warnings when processing through the data. Not necessary to run the program, but it will give neat output.</h3>"
   ]
  },
  {
   "cell_type": "code",
   "execution_count": 28,
   "id": "57ec497d",
   "metadata": {},
   "outputs": [],
   "source": [
    "import warnings\n",
    "warnings.filterwarnings('ignore')"
   ]
  },
  {
   "cell_type": "markdown",
   "id": "409866e9",
   "metadata": {},
   "source": [
    "<h3>Main Function responsible for calculating the reputation</h3>"
   ]
  },
  {
   "cell_type": "code",
   "execution_count": 31,
   "id": "fcc60401",
   "metadata": {},
   "outputs": [],
   "source": [
    "def reput(user_id,date_limit):\n",
    "    df_post_user = df_post[df_post['owner_user_id'] == user_id]\n",
    "    df_post_user['creation_date'] =  pd.to_datetime(df_post_user['creation_date'], format='%Y-%m-%dT%H:%M:%S.%f')\n",
    "    df_post_user = df_post_user[df_post_user['creation_date'] < date_limit]\n",
    "    df_post_user['time_since'] = (df_post_user['creation_date'] - df_post_user.iloc[0].creation_date ).dt.days\n",
    "    #Currently df_post_user has posts which have owner_user_id= user_id and creation time less then the date supplied\n",
    "    \n",
    "    total_points=0  #Storing the points\n",
    "    days_checked=[] #Storing days which are processed to avoid calculating same day repeatedly\n",
    "    \n",
    "    #Number of posts to processing having the required user id and creation date\n",
    "    #print(\"Length of df_post_user:\",len(df_post_user))\n",
    "    for i in range(len(df_post_user)):\n",
    "        row = df_post_user.iloc[i]\n",
    "        day_to_be_checked=row.time_since #Day which is to be processed\n",
    "        if day_to_be_checked not in days_checked: #Checking if the same day has been processed earlier or not. Like user can have multiple posts on same day resulting in time since being same for all these multiple post, while each having unique row.\n",
    "            temp_df=df_post_user[df_post_user['time_since'] == day_to_be_checked] #Temporary dataframe containing posts with the same date as required\n",
    "            day_points=0 # Varaible for storing daily reputation gain\n",
    "            for j in range(len(temp_df)): #iterating throught the temporary dataframe and calculating the reputation\n",
    "                row_temp = temp_df.iloc[j]\n",
    "                #temp_df_2 = df_votes[(df_votes['post_id'] == row_temp.id) and (df_votes['vote_type_id'] == 2)]\n",
    "                temp_df_2 = df_votes[(df_votes['post_id'] == row_temp.id)]\n",
    "                temp_df_2 = temp_df_2[(temp_df_2['vote_type_id'] == 2)] #Resulting temp_df_2 has number of rows equal to number of upvotes, it doesn't matter if its upvoted question or answer as both have same effect on reputation\n",
    "                for k in range(len(temp_df_2)):\n",
    "                    day_points=day_points+10 #Increasing daily reputation gain varialbe by 10 for upvotes\n",
    "\n",
    "                #temp_df_2 = df_votes[(df_votes['post_id'] == row_temp.id) and (df_votes['vote_type_id'] == 3)]\n",
    "                temp_df_2 = df_votes[(df_votes['post_id'] == row_temp.id)]\n",
    "                temp_df_2 = temp_df_2[(temp_df_2['vote_type_id'] == 3)] ##Resulting temp_df_2 has number of rows equal to number of downvotes, it doesn't matter if its downvote question or answer as both have same effect on reputation\n",
    "                for k in range(len(temp_df_2)):\n",
    "                    day_points=day_points-2 #Decreasing daily reputation gain variable by 2 for downvotes\n",
    "            if(day_points>200): # Limiting daily reputation gain to 200\n",
    "                day_points=200\n",
    "            total_points=total_points+day_points\n",
    "            days_checked.append(day_to_be_checked)\n",
    "        else:\n",
    "            pass\n",
    "        \n",
    "        #Calculating the total accepted answers given by user, its outside daily calculation as it doesn't have daily limit\n",
    "        if((df_post['accepted_answer_id'] == row.id)).any():\n",
    "#             print(\"Got accepted answer\")\n",
    "            total_points=total_points+15\n",
    "    #     print(total_points)\n",
    "    return total_points\n"
   ]
  },
  {
   "cell_type": "markdown",
   "id": "10557f93",
   "metadata": {},
   "source": [
    "<h3>Getting inputs from user and printing the reputation as required</h3>"
   ]
  },
  {
   "cell_type": "code",
   "execution_count": 32,
   "id": "c47a927c",
   "metadata": {},
   "outputs": [
    {
     "name": "stdout",
     "output_type": "stream",
     "text": [
      "Enter the user ID:9\n",
      "Enter the date in proper format in proper format eg. 2010-02-19 ie.YYYY-MM-DD 2010-02-19\n",
      "Reputation of entered user is: 1678\n"
     ]
    }
   ],
   "source": [
    "user=int(input(\"Enter the user ID:\"))\n",
    "date=(input(\"Enter the date in proper format in proper format eg. 2010-02-19 ie.YYYY-MM-DD \"))\n",
    "# print(reput(9,\"2010-02-19\"))\n",
    "print(\"Reputation of entered user is:\",reput(user,date))"
   ]
  },
  {
   "cell_type": "code",
   "execution_count": null,
   "id": "49118e25",
   "metadata": {},
   "outputs": [],
   "source": []
  }
 ],
 "metadata": {
  "kernelspec": {
   "display_name": "Python 3",
   "language": "python",
   "name": "python3"
  },
  "language_info": {
   "codemirror_mode": {
    "name": "ipython",
    "version": 3
   },
   "file_extension": ".py",
   "mimetype": "text/x-python",
   "name": "python",
   "nbconvert_exporter": "python",
   "pygments_lexer": "ipython3",
   "version": "3.8.8"
  }
 },
 "nbformat": 4,
 "nbformat_minor": 5
}
