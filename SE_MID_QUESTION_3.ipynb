{
 "cells": [
  {
   "cell_type": "markdown",
   "id": "40e99874",
   "metadata": {},
   "source": [
    "<h2>Question 3</h2>"
   ]
  },
  {
   "cell_type": "markdown",
   "id": "384f5746",
   "metadata": {},
   "source": [
    "<h3>Loading data</h3>"
   ]
  },
  {
   "cell_type": "code",
   "execution_count": 26,
   "id": "87548c4f",
   "metadata": {},
   "outputs": [
    {
     "name": "stdout",
     "output_type": "stream",
     "text": [
      "Completed loading post.csv\n"
     ]
    }
   ],
   "source": [
    "import pandas as pd\n",
    "df1 = pd.read_csv('posts.csv')\n",
    "df1['creation_date'] =  pd.to_datetime(df1['creation_date'], format='%Y-%m-%dT%H:%M:%S.%f')\n",
    "print(\"Completed loading post.csv\")"
   ]
  },
  {
   "cell_type": "code",
   "execution_count": 27,
   "id": "b3ba2129",
   "metadata": {},
   "outputs": [
    {
     "name": "stdout",
     "output_type": "stream",
     "text": [
      "Completed loading user.csv\n"
     ]
    }
   ],
   "source": [
    "df4 = pd.read_csv('users.csv')\n",
    "print(\"Completed loading user.csv\")"
   ]
  },
  {
   "cell_type": "markdown",
   "id": "4fab66ef",
   "metadata": {},
   "source": [
    "<h3>Processing data</h3>"
   ]
  },
  {
   "cell_type": "code",
   "execution_count": 28,
   "id": "d67ed3c7",
   "metadata": {},
   "outputs": [
    {
     "name": "stdout",
     "output_type": "stream",
     "text": [
      "[84, 35646, 103814, 84009, 58749, 56078, 72066, 73675, 77149, 77598, 88883, 94976, 103244, 96926, 94099, 101526, 107959, 105085, 119854, 114009, 127314, 117306, 119089, 125284, 135173]\n",
      "[84, 35646, 103814, 84009, 58749, 56078, 72066, 73675, 77149, 77598, 88883, 94976, 103244, 96926, 94099, 101526, 107959, 105085, 119854, 114009, 127314, 117306, 119089, 125284, 135173]\n"
     ]
    }
   ],
   "source": [
    "df1['year'] = pd.DatetimeIndex(df1['creation_date']).year\n",
    "df1['month'] = pd.DatetimeIndex(df1['creation_date']).month\n",
    "\n",
    "answer_in_month=[]\n",
    "accepted_answer=[]\n",
    "accepted_answers = df1[df1['post_type_id'] == 1]\n",
    "\n",
    "for i in range(7,13):\n",
    "    b= df1.loc[(df1[\"year\"]==2008) & (df1[\"month\"]==i) & (df1['post_type_id']==1)]\n",
    "    accepted_answer.append(b[\"answer_count\"].sum())\n",
    "for i in range(7,13):\n",
    "    a= df1.loc[(df1[\"year\"]==2008) & (df1[\"month\"]==i)]\n",
    "    answer_in_month.append(a[\"answer_count\"].sum())\n",
    "for i in range(1,13):\n",
    "    b= df1.loc[(df1[\"year\"]==2009) & (df1[\"month\"]==i) & (df1['post_type_id']==1)]\n",
    "    accepted_answer.append(b[\"answer_count\"].sum())\n",
    "for i in range(1,13):\n",
    "    a= df1.loc[(df1[\"year\"]==2009) & (df1[\"month\"]==i)]\n",
    "    answer_in_month.append(a[\"answer_count\"].sum())\n",
    "for i in range(1,8):\n",
    "    b= df1.loc[(df1[\"year\"]==2010) & (df1[\"month\"]==i) & (df1['post_type_id']==1)]\n",
    "    accepted_answer.append(b[\"answer_count\"].sum())\n",
    "for i in range(1,8):\n",
    "    a= df1.loc[(df1[\"year\"]==2010) & (df1[\"month\"]==i)]\n",
    "    answer_in_month.append(a[\"answer_count\"].sum())\n",
    "    \n",
    "print(answer_in_month)\n",
    "print(accepted_answer)"
   ]
  },
  {
   "cell_type": "markdown",
   "id": "45ddea8e",
   "metadata": {},
   "source": [
    "<h3>Plotting graphs</h3>"
   ]
  },
  {
   "cell_type": "code",
   "execution_count": 30,
   "id": "c13c6318",
   "metadata": {},
   "outputs": [
    {
     "data": {
      "image/png": "[encoded data removed]",
      "text/plain": [
       "<Figure size 432x288 with 1 Axes>"
      ]
     },
     "metadata": {
      "needs_background": "light"
     },
     "output_type": "display_data"
    }
   ],
   "source": [
    "import matplotlib.pyplot as plt\n",
    "import numpy as np\n",
    "import math\n",
    "  \n",
    "x = []\n",
    "for i in range(len(accepted_answer)):\n",
    "    x.append(i)\n",
    "y = answer_in_month\n",
    "z = accepted_answer\n",
    "\n",
    "plt.plot(x, y, color='r', label='Median-All answers')\n",
    "plt.plot(x, z, color='g', label='Median-Accepted answers')\n",
    "plt.xlabel(\"Months starting from 2008\")\n",
    "plt.ylabel(\"Answer Time minutes\")\n",
    "plt.title(\"Question 3\") \n",
    "plt.legend()\n",
    "plt.show()"
   ]
  },
  {
   "cell_type": "code",
   "execution_count": null,
   "id": "af68c480",
   "metadata": {},
   "outputs": [],
   "source": []
  }
 ],
 "metadata": {
  "kernelspec": {
   "display_name": "Python 3",
   "language": "python",
   "name": "python3"
  },
  "language_info": {
   "codemirror_mode": {
    "name": "ipython",
    "version": 3
   },
   "file_extension": ".py",
   "mimetype": "text/x-python",
   "name": "python",
   "nbconvert_exporter": "python",
   "pygments_lexer": "ipython3",
   "version": "3.8.8"
  }
 },
 "nbformat": 4,
 "nbformat_minor": 5
}
