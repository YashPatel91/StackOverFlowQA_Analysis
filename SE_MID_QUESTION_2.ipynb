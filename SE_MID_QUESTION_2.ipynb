{
 "cells": [
  {
   "cell_type": "markdown",
   "id": "0a1b8706",
   "metadata": {},
   "source": [
    "<h2>Question 2</h2>"
   ]
  },
  {
   "cell_type": "markdown",
   "id": "f2e0f70a",
   "metadata": {},
   "source": [
    "<h3> Loading the data </h3>"
   ]
  },
  {
   "cell_type": "code",
   "execution_count": 9,
   "id": "2b11eac1",
   "metadata": {},
   "outputs": [
    {
     "name": "stdout",
     "output_type": "stream",
     "text": [
      "Completed loading votes.csv\n",
      "Completed loading post.csv\n"
     ]
    }
   ],
   "source": [
    "import pandas as pd\n",
    "df_votes = pd.read_csv('votes.csv')\n",
    "print(\"Completed loading votes.csv\")\n",
    "df_post = pd.read_csv('posts.csv')\n",
    "print(\"Completed loading post.csv\")"
   ]
  },
  {
   "cell_type": "markdown",
   "id": "10830cd0",
   "metadata": {},
   "source": [
    "<h3>Main Processing </h3>"
   ]
  },
  {
   "cell_type": "code",
   "execution_count": 24,
   "id": "2ca94d68",
   "metadata": {},
   "outputs": [
    {
     "name": "stdout",
     "output_type": "stream",
     "text": [
      "Number of questions: 2012348\n",
      "Number of answers 4456287\n"
     ]
    }
   ],
   "source": [
    "df_post_questions = df_post[df_post['post_type_id'] == 1]\n",
    "print(\"Number of questions:\",len(df_post_questions)) #Checking the number of questions\n",
    "\n",
    "df_post_answers = df_post[df_post['post_type_id'] == 2]\n",
    "print(\"Number of answers\",len(df_post_answers))   #Checking the number of answers"
   ]
  },
  {
   "cell_type": "code",
   "execution_count": 17,
   "id": "7cbb29e1",
   "metadata": {},
   "outputs": [
    {
     "name": "stdout",
     "output_type": "stream",
     "text": [
      "0\n",
      "10\n",
      "20\n",
      "30\n",
      "40\n",
      "50\n",
      "60\n",
      "70\n",
      "80\n",
      "90\n",
      "100\n",
      "110\n",
      "120\n",
      "130\n",
      "140\n",
      "150\n",
      "160\n",
      "170\n",
      "180\n",
      "190\n",
      "200\n",
      "210\n",
      "220\n",
      "230\n",
      "240\n",
      "250\n",
      "260\n",
      "270\n",
      "280\n",
      "290\n",
      "300\n",
      "310\n",
      "320\n",
      "330\n",
      "340\n",
      "350\n",
      "360\n",
      "370\n",
      "380\n",
      "390\n",
      "400\n",
      "410\n",
      "420\n",
      "430\n",
      "440\n",
      "450\n",
      "460\n",
      "470\n",
      "480\n",
      "490\n",
      "500\n",
      "510\n",
      "520\n",
      "530\n",
      "540\n",
      "550\n",
      "560\n",
      "570\n",
      "580\n",
      "590\n",
      "600\n",
      "610\n",
      "620\n",
      "630\n",
      "640\n",
      "650\n",
      "660\n",
      "670\n",
      "680\n",
      "690\n",
      "700\n",
      "710\n",
      "720\n",
      "730\n",
      "740\n",
      "750\n",
      "760\n",
      "770\n",
      "780\n",
      "790\n",
      "800\n",
      "810\n",
      "820\n",
      "830\n",
      "840\n",
      "850\n",
      "860\n",
      "870\n",
      "880\n",
      "890\n",
      "900\n",
      "910\n",
      "920\n",
      "930\n",
      "940\n",
      "950\n",
      "960\n",
      "970\n",
      "980\n",
      "990\n",
      "Total number of questions  1000\n",
      "First Answers array\n",
      "[24, 105, 218, 295, 374, 416, 467, 502, 541, 571, 598, 616, 636, 652, 664, 676, 690, 698, 713, 725, 734, 747, 759, 763, 765, 773, 782, 784, 787, 791, 796, 798, 803, 806, 812, 817, 820, 823, 828, 830, 831, 832, 836, 837, 838, 842, 846, 849, 851, 854, 856, 859, 865, 865, 868, 871, 871, 873, 874, 875, 876, 877, 878, 878, 879, 880, 880, 881, 884, 885, 885, 888, 889, 890, 891, 891, 891, 892, 892, 893, 895, 898, 901, 901, 904, 906, 907, 907, 908, 911, 913, 913, 914, 914, 914, 917, 917, 918, 920, 921, 923, 925, 926, 926, 929, 930, 931, 933, 933, 935, 936, 937, 939, 939, 941, 941, 942, 942, 942, 942]\n",
      "First Upvotes array\n",
      "Befor sums:\n",
      "[24, 71, 98, 65, 67, 45, 45, 31, 41, 25, 27, 23, 17, 12, 12, 10, 15, 9, 11, 14, 6, 13, 15, 5, 4, 7, 9, 4, 3, 3, 4, 3, 5, 3, 5, 8, 3, 2, 6, 1, 1, 1, 5, 2, 1, 4, 3, 5, 4, 3, 3, 3, 7, 0, 2, 3, 0, 4, 1, 1, 0, 1, 2, 0, 2, 2, 0, 0, 3, 1, 0, 3, 1, 1, 1, 1, 1, 2, 0, 0, 2, 2, 2, 0, 2, 3, 1, 1, 0, 4, 2, 1, 0, 0, 0, 2, 1, 0, 2, 1, 1, 2, 1, 1, 4, 0, 1, 1, 0, 2, 0, 0, 1, 1, 2, 0, 0, 1, 1, 0]\n",
      "After Sums:\n",
      "[24, 95, 193, 258, 325, 370, 415, 446, 487, 512, 539, 562, 579, 591, 603, 613, 628, 637, 648, 662, 668, 681, 696, 701, 705, 712, 721, 725, 728, 731, 735, 738, 743, 746, 751, 759, 762, 764, 770, 771, 772, 773, 778, 780, 781, 785, 788, 793, 797, 800, 803, 806, 813, 813, 815, 818, 818, 822, 823, 824, 824, 825, 827, 827, 829, 831, 831, 831, 834, 835, 835, 838, 839, 840, 841, 842, 843, 845, 845, 845, 847, 849, 851, 851, 853, 856, 857, 858, 858, 862, 864, 865, 865, 865, 865, 867, 868, 868, 870, 871, 872, 874, 875, 876, 880, 880, 881, 882, 882, 884, 884, 884, 885, 886, 888, 888, 888, 889, 890, 890]\n"
     ]
    }
   ],
   "source": [
    "from datetime import datetime\n",
    "FMT = '%Y-%m-%d %H:%M:%S.%f'\n",
    "\n",
    "#Making bins with each bin signifing a minute\n",
    "#Bin responsible for plotting first_answer graph. Like first_answer_bins[10] will have number of \n",
    "#questions whos first answer was within first 11 minutes of asking the question.\n",
    "\n",
    "first_answer_bins=[] \n",
    "for i in range(120):\n",
    "    first_answer_bins.append(int(0))\n",
    "\n",
    "#Same as first_answer_bins but used for storing number of encounters based on first upvote time.\n",
    "first_upvoted_bins=[]\n",
    "for i in range(120):\n",
    "    first_upvoted_bins.append(int(0))\n",
    "\n",
    "#For storing number of questions processed, each is taking some time so looping throught all the question \n",
    "#will require quit a bit of time.\n",
    "number_of_questions=0 \n",
    "\n",
    "#Here the limit for processing the questions is hard set to 10000 \n",
    "#as its taking too long to process through millions of data entries.\n",
    "for i in range(1000): \n",
    "    if( i%10==0): #Keeping track of the progress\n",
    "        print(i,\"/\",len(df_post),\" processed\")\n",
    "    number_of_questions=number_of_questions+1\n",
    "    row = df_post_questions.iloc[i]\n",
    "    post_creation_time=row.creation_date #Question creation time\n",
    "    root_id=row.id #Question ID\n",
    "    df_post_question_answers = df_post_answers[df_post_answers['parent_id'] == root_id] #Answers of the required question\n",
    "    indexes_to_be_dropped=[]\n",
    "    \n",
    "    first_bin_updated=0 #Flag to only count the first answer\n",
    "    first_upvote_bin_updated=0 #Flag to only count the first upvote\n",
    "    \n",
    "    #Looping through answers for furhter processing\n",
    "    for j in range(len(df_post_question_answers)):\n",
    "            row = df_post_question_answers.iloc[j]\n",
    "            answer_creation_time=row.creation_date\n",
    "            #Removing the T in the creation time and subtracting question creation time from it to get response time\n",
    "            tdelta = datetime.strptime(answer_creation_time.replace(\"T\",\" \"),FMT) - datetime.strptime(post_creation_time.replace(\"T\",\" \"),FMT)\n",
    "            if(tdelta.seconds>7199): #Excluding answers where response time was greater then 2 hrs ie. 7200 Seconds\n",
    "                indexes_to_be_dropped.append(j) \n",
    "            else:\n",
    "                pass\n",
    "                #Updating the first_answer_bins as per first answer time \n",
    "                temp=int(tdelta.seconds/60)\n",
    "                if(first_bin_updated==0): #Limiting first_answer_bins input to the first encounter ie.first answer time\n",
    "                    first_answer_bins[temp]=first_answer_bins[temp]+1\n",
    "                    first_bin_updated=1\n",
    "                else:\n",
    "                    pass\n",
    "                row_post_id=row.id\n",
    "                #Checking for upvote on the answer\n",
    "                if((df_votes['post_id'] == row_post_id) & (df_votes['vote_type_id'] == 2)).any():\n",
    "                    if(first_upvote_bin_updated==0): #limiting the first_upvoted_bins input to the first upvote time for the given question \n",
    "                        first_upvoted_bins[temp]=first_upvoted_bins[temp]+1\n",
    "                        first_upvote_bin_updated=1\n",
    "                        \n",
    "print(\"Total number of questions \",number_of_questions)\n",
    "\n",
    "#Aggrgating the bins such that it represents the sum total of all like first_answer_bins[20] was originally having count \n",
    "#of encounters where first answer time was between 20 and 21 minutes. But after this processing it will have all encounters \n",
    "#where first encounter time is less then 21 minutes.\n",
    "first_answer_bins_updated=[]\n",
    "for i in range(120):\n",
    "    sums=first_answer_bins[i]\n",
    "    for j in range(i):\n",
    "        sums=sums+first_answer_bins[j]\n",
    "    first_answer_bins_updated.append(sums)\n",
    "print(\"First Answers array\")\n",
    "print(first_answer_bins_updated)\n",
    "\n",
    "print(\"First Upvotes array\")\n",
    "\n",
    "print(\"Befor sums:\")\n",
    "print(first_upvoted_bins)\n",
    "\n",
    "#Same as first_answer_bins aggregation but for first_upvoted_bins\n",
    "first_upvoted_bins_updated=[]\n",
    "for i in range(120):\n",
    "    sums=first_upvoted_bins[i]\n",
    "    for j in range(i):\n",
    "        sums=sums+first_upvoted_bins[j]\n",
    "    first_upvoted_bins_updated.append(sums)\n",
    "print(\"After Sums:\")\n",
    "print(first_upvoted_bins_updated)"
   ]
  },
  {
   "cell_type": "markdown",
   "id": "fe4f61da",
   "metadata": {},
   "source": [
    "<h3> Ploting the graphs as required</h3>"
   ]
  },
  {
   "cell_type": "code",
   "execution_count": 25,
   "id": "d8f30f8a",
   "metadata": {},
   "outputs": [
    {
     "data": {
      "image/png": "[encoded data removed]",
      "text/plain": [
       "<Figure size 432x288 with 1 Axes>"
      ]
     },
     "metadata": {
      "needs_background": "light"
     },
     "output_type": "display_data"
    }
   ],
   "source": [
    "import matplotlib.pyplot as plt\n",
    "import numpy as np\n",
    "import math\n",
    "  \n",
    "x = []\n",
    "for i in range(120):\n",
    "    x.append(i)\n",
    "    \n",
    "y = first_answer_bins_updated\n",
    "z = first_upvoted_bins_updated\n",
    "\n",
    "for i in range(120):\n",
    "    y[i]=(y[i]/number_of_questions)*100\n",
    "    z[i]=(z[i]/number_of_questions)*100\n",
    "# print(y)\n",
    "# print(z)\n",
    "# Plotting both the curves simultaneously\n",
    "plt.plot(x, y, color='r', label='First Answer')\n",
    "plt.plot(x, z, color='g', label='First Upvote')\n",
    "  \n",
    "# Naming the x-axis, y-axis and the whole graph\n",
    "plt.xlabel(\"Minutes\")\n",
    "plt.ylabel(\"Percentage\")\n",
    "plt.title(\"Question 2\")\n",
    "  \n",
    "# Adding legend, which helps us recognize the curve according to it's color\n",
    "plt.legend()\n",
    "  \n",
    "# To load the display window\n",
    "plt.show()"
   ]
  },
  {
   "cell_type": "code",
   "execution_count": null,
   "id": "10d23cb4",
   "metadata": {},
   "outputs": [],
   "source": []
  }
 ],
 "metadata": {
  "kernelspec": {
   "display_name": "Python 3",
   "language": "python",
   "name": "python3"
  },
  "language_info": {
   "codemirror_mode": {
    "name": "ipython",
    "version": 3
   },
   "file_extension": ".py",
   "mimetype": "text/x-python",
   "name": "python",
   "nbconvert_exporter": "python",
   "pygments_lexer": "ipython3",
   "version": "3.8.8"
  }
 },
 "nbformat": 4,
 "nbformat_minor": 5
}
